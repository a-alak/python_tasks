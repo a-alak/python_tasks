{
 "cells": [
  {
   "cell_type": "code",
   "execution_count": null,
   "id": "8d76ff5b",
   "metadata": {},
   "outputs": [],
   "source": [
    " Python tasks - SPEDA interview\n",
    "import numpy as np \n",
    "import pandas as pd \n",
    "\n",
    "import json\n",
    "# 1)\n",
    "# Write a function, that counts the number of times a unique value is represented in the list\n",
    "sample_list = [11, 45, 8, 11, 23, 45, 23, 45, 89, 23]\n",
    "#print(np.unique(sample_list))\n",
    "# 2)\n",
    "# Find all unique values of this dictionary\n",
    "sample_dict = {\n",
    "    \"jan\": 47,\n",
    "    \"feb\": 52,\n",
    "    \"march\": 47,\n",
    "    \"April\": 44,\n",
    "    \"May\": 52,\n",
    "    \"June\": 53,\n",
    "    \"july\": 54,\n",
    "    \"Aug\": 44,\n",
    "    \"Sept\": 54,\n",
    "}\n",
    "#uniqueValues = set(sample_dict.values())\n",
    "#print(uniqueValues)\n",
    "# 3)\n",
    "# Find sum and average of all digits (0-9) in this string\n",
    "str1 = \"ron03at038[2g577e29@#8496\"\n",
    "d=[]\n",
    "for x in str1:\n",
    "    if x.isdigit():\n",
    "        d.append(int(x))\n",
    "print('Mean is:',np.mean(d))\n",
    "print('Sum is:',np.sum(d))\n",
    "# 4)\n",
    "# Find the value of \"salary\" in the following JSON \n",
    "sample_json1 = \"\"\"{\n",
    "   \"company\":{\n",
    "      \"employee\":{\n",
    "         \"name\":\"emma\",\n",
    "         \"payble\":{\n",
    "            \"salary\":7000,\n",
    "            \"bonus\":800\n",
    "         }\n",
    "      }\n",
    "   }\n",
    "}\"\"\"\n",
    "\n",
    "# 5)\n",
    "# Expand the class with a method that returns a JSON representation of an instance of the class\n",
    "class Vehicle:\n",
    "    def __init__(self, name, engine, price):\n",
    "        self.name = name\n",
    "        self.engine = engine\n",
    "        self.price = price\n",
    "vehicle = Vehicle(\"Toyota Rav4\", \"2.5L\", 32000)  # example instance"
   ]
  }
 ],
 "metadata": {
  "kernelspec": {
   "display_name": "Python 3 (ipykernel)",
   "language": "python",
   "name": "python3"
  },
  "language_info": {
   "codemirror_mode": {
    "name": "ipython",
    "version": 3
   },
   "file_extension": ".py",
   "mimetype": "text/x-python",
   "name": "python",
   "nbconvert_exporter": "python",
   "pygments_lexer": "ipython3",
   "version": "3.9.7"
  }
 },
 "nbformat": 4,
 "nbformat_minor": 5
}
